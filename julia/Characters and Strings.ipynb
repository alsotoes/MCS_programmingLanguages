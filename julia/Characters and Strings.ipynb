{
 "cells": [
  {
   "cell_type": "markdown",
   "metadata": {},
   "source": [
    "# Characters and Strings"
   ]
  },
  {
   "cell_type": "markdown",
   "metadata": {},
   "source": [
    "## Characters"
   ]
  },
  {
   "cell_type": "code",
   "execution_count": 129,
   "metadata": {
    "collapsed": false
   },
   "outputs": [
    {
     "data": {
      "text/plain": [
       "'h'"
      ]
     },
     "execution_count": 129,
     "metadata": {},
     "output_type": "execute_result"
    }
   ],
   "source": [
    "char1 = 'h'"
   ]
  },
  {
   "cell_type": "code",
   "execution_count": 130,
   "metadata": {
    "collapsed": false
   },
   "outputs": [
    {
     "data": {
      "text/plain": [
       "Int64"
      ]
     },
     "execution_count": 130,
     "metadata": {},
     "output_type": "execute_result"
    }
   ],
   "source": [
    "#Convertion\n",
    "\n",
    "char2 = 'a'\n",
    "typeof(Int(char2))"
   ]
  },
  {
   "cell_type": "markdown",
   "metadata": {},
   "source": [
    "## Strings"
   ]
  },
  {
   "cell_type": "code",
   "execution_count": 131,
   "metadata": {
    "collapsed": false
   },
   "outputs": [
    {
     "name": "stdout",
     "output_type": "stream",
     "text": [
      "Domo arigato Mr. Roboto\n",
      "m\n",
      "o\n",
      "t\n",
      "to M\n"
     ]
    }
   ],
   "source": [
    "str = \"Domo arigato \"\n",
    "str2 = \"Mr. Roboto\"\n",
    "str3 = str * str2\n",
    "println(str3)\n",
    "#Indexing\n",
    "println(str[3])\n",
    "println(str3[end])\n",
    "println(str3[end-1])\n",
    "println(str3[11:14])\n"
   ]
  },
  {
   "cell_type": "markdown",
   "metadata": {},
   "source": [
    "### String Interpolation"
   ]
  },
  {
   "cell_type": "code",
   "execution_count": 132,
   "metadata": {
    "collapsed": false
   },
   "outputs": [
    {
     "name": "stdout",
     "output_type": "stream",
     "text": [
      "Hello, world.\n",
      "Hello, world\n",
      "1 + 2 = 3\n"
     ]
    },
    {
     "data": {
      "text/plain": [
       "\"Y mis \\$50,000 pesos que?\""
      ]
     },
     "execution_count": 132,
     "metadata": {},
     "output_type": "execute_result"
    }
   ],
   "source": [
    "greet = \"Hello\"\n",
    "whom = \"world\"\n",
    "print(string(greet, \", \", whom, \".\\n\"))\n",
    "#Another way to do the above \n",
    "println(\"$greet, $whom\")\n",
    "#interpolating expresions into strings\n",
    "println(\"1 + 2 = $(1 + 2)\")\n",
    "#if you want to use the liteal symbol $ you can use a backslash\n",
    "\"Y mis \\$50,000 pesos que?\""
   ]
  },
  {
   "cell_type": "markdown",
   "metadata": {},
   "source": [
    "### Common Operations"
   ]
  },
  {
   "cell_type": "code",
   "execution_count": 133,
   "metadata": {
    "collapsed": false
   },
   "outputs": [
    {
     "name": "stdout",
     "output_type": "stream",
     "text": [
      "false\n",
      "true\n",
      "true\n",
      "true\n",
      "10\n",
      "0\n",
      "true\n"
     ]
    }
   ],
   "source": [
    "println(\"brain\" == \"drain\")\n",
    "println(\"gin\" < \"tequila\")\n",
    "println(\"Hello, world.\" != \"Goodbye, world.\")\n",
    "println(\"1 + 2 = 3\" == \"1 + 2 = $(1 + 2)\")\n",
    "\n",
    "#You can check where a certain character is in a string\n",
    "println(search(\"Pterodactyl\",'y'))\n",
    "println(search(\"Pterodactyl\",'z'))\n",
    "\n",
    "#You can use contain to check if a string is whithin another string\n",
    "println(contains(\"Hello, world.\", \"world\"))"
   ]
  },
  {
   "cell_type": "markdown",
   "metadata": {},
   "source": [
    "### Regular Expressions"
   ]
  },
  {
   "cell_type": "code",
   "execution_count": 134,
   "metadata": {
    "collapsed": false
   },
   "outputs": [
    {
     "data": {
      "text/plain": [
       "Regex"
      ]
     },
     "execution_count": 134,
     "metadata": {},
     "output_type": "execute_result"
    }
   ],
   "source": [
    "x = r\"^\\s*(?:#|$)\"\n",
    "\n",
    "typeof(x)\n"
   ]
  },
  {
   "cell_type": "code",
   "execution_count": null,
   "metadata": {
    "collapsed": true
   },
   "outputs": [],
   "source": []
  }
 ],
 "metadata": {
  "kernelspec": {
   "display_name": "Julia 0.5.0",
   "language": "julia",
   "name": "julia-0.5"
  },
  "language_info": {
   "file_extension": ".jl",
   "mimetype": "application/julia",
   "name": "julia",
   "version": "0.5.0"
  }
 },
 "nbformat": 4,
 "nbformat_minor": 1
}
