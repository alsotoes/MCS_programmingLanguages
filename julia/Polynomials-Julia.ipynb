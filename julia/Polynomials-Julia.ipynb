{
 "cells": [
  {
   "cell_type": "markdown",
   "metadata": {},
   "source": [
    "# Polynomials Example in Julia"
   ]
  },
  {
   "cell_type": "markdown",
   "metadata": {},
   "source": [
    "### Creating a type for the polynomials"
   ]
  },
  {
   "cell_type": "code",
   "execution_count": 1,
   "metadata": {
    "collapsed": false
   },
   "outputs": [],
   "source": [
    "workspace()\n",
    "type poly\n",
    "    a::AbstractArray{Int64,1}\n",
    "end"
   ]
  },
  {
   "cell_type": "markdown",
   "metadata": {},
   "source": [
    "### Printing function"
   ]
  },
  {
   "cell_type": "code",
   "execution_count": 2,
   "metadata": {
    "collapsed": false
   },
   "outputs": [
    {
     "name": "stdout",
     "output_type": "stream",
     "text": [
      "1 + 2 x^1 + 3 x^2 + 4 x^3\n"
     ]
    }
   ],
   "source": [
    "function prpoly(p::poly)\n",
    "sizep = length(p.a)\n",
    "xstr = \"x^\"\n",
    "polystr = \"\"\n",
    "(sizep)\n",
    "    if sizep == 1\n",
    "      num = p.a[1]\n",
    "      \n",
    "      polystr = \"$num\"\n",
    "    else\n",
    "        for i = 1:sizep\n",
    "        num = p.a[i]\n",
    "\n",
    "            if num == 0\n",
    "                    i = i\n",
    "            elseif i == 1\n",
    "                polystr =\"$num\"\n",
    "\n",
    "            elseif num < 0\n",
    "                polystr = polystr * \" $num $xstr$(i)\"\n",
    "            else\n",
    "                polystr = polystr * \" + $num $xstr$(i-1)\"\n",
    "            end\n",
    "        end\n",
    "    end\n",
    "\n",
    "    if  polystr[2] == '+'\n",
    "        polystr = polystr[3:end]\n",
    "    end\n",
    "return polystr\n",
    "end\n",
    "\n",
    "a = poly([1,2,3,4])\n",
    "\n",
    "println(prpoly(a))"
   ]
  },
  {
   "cell_type": "markdown",
   "metadata": {},
   "source": [
    "### Evaluation function"
   ]
  },
  {
   "cell_type": "code",
   "execution_count": 3,
   "metadata": {
    "collapsed": false
   },
   "outputs": [
    {
     "name": "stdout",
     "output_type": "stream",
     "text": [
      "10\n"
     ]
    }
   ],
   "source": [
    "function evpoly(p::poly,r::Real)\n",
    "    sizep = length(p.a)\n",
    "    ev = 0\n",
    "    while sizep > 1\n",
    "        ev = ev + p.a[sizep]*r\n",
    "        sizep = sizep - 1\n",
    "    end\n",
    "    ev = ev + p.a[1]\n",
    "\n",
    "end\n",
    "\n",
    "a = poly([1,2,3,4])\n",
    "println(evpoly(a,1))\n"
   ]
  },
  {
   "cell_type": "markdown",
   "metadata": {},
   "source": [
    "### Polynomial Addition"
   ]
  },
  {
   "cell_type": "code",
   "execution_count": 4,
   "metadata": {
    "collapsed": false
   },
   "outputs": [
    {
     "name": "stdout",
     "output_type": "stream",
     "text": [
      "6 + 2 x^1 + 6 x^2 + 4 x^3"
     ]
    }
   ],
   "source": [
    "function polysum(p::poly, q::poly)\n",
    "    e = []\n",
    "    o =length(p.a)\n",
    "    u =length(q.a)\n",
    "    if o >= u\n",
    "        e = p.a\n",
    "        for i = 1:u\n",
    "            e[i] = e[i] + q.a[i]\n",
    "\n",
    "        end\n",
    "    else\n",
    "        e = q.a\n",
    "         for i = 1:o\n",
    "            e[i] = e[i] + p.a[i]\n",
    "         end\n",
    "    end\n",
    "\n",
    "    return poly(e)\n",
    "\n",
    "end\n",
    "\n",
    "a = poly([1,2,3,4])\n",
    "b = poly([5,0,3])\n",
    "\n",
    "x = polysum(a,b)\n",
    "print(prpoly(x))\n",
    "\n"
   ]
  },
  {
   "cell_type": "markdown",
   "metadata": {},
   "source": [
    "### Polynomial Subtraction"
   ]
  },
  {
   "cell_type": "code",
   "execution_count": 5,
   "metadata": {
    "collapsed": false
   },
   "outputs": [
    {
     "name": "stdout",
     "output_type": "stream",
     "text": [
      "-4 + 2 x^1 + 4 x^3\n"
     ]
    }
   ],
   "source": [
    "function polysub(p::poly, q::poly)\n",
    "    e = []\n",
    "    o =length(p.a)\n",
    "    u =length(q.a)\n",
    "    if o >= u\n",
    "        e = p.a\n",
    "        for i = 1:u\n",
    "            e[i] = e[i] - q.a[i]\n",
    "\n",
    "        end\n",
    "    else\n",
    "        e = q.a\n",
    "         for i = 1:o\n",
    "            e[i] = p.a[i] - e[i]\n",
    "         end\n",
    "         y = o+1\n",
    "         for i = y:u\n",
    "           e[i] = e[i] * -1\n",
    "         end\n",
    "    end\n",
    "\n",
    "    return poly(e)\n",
    "\n",
    "end\n",
    "a = poly([1,2,3,4])\n",
    "b = poly([5,0,3])\n",
    "\n",
    "y = polysub(a,b)\n",
    "println(prpoly(y))"
   ]
  },
  {
   "cell_type": "markdown",
   "metadata": {},
   "source": [
    "### Polynomial Multiplication"
   ]
  },
  {
   "cell_type": "code",
   "execution_count": 6,
   "metadata": {
    "collapsed": false
   },
   "outputs": [
    {
     "name": "stdout",
     "output_type": "stream",
     "text": [
      "5 + 10 x^1 + 18 x^2 + 26 x^3 + 9 x^4 + 12 x^5\n"
     ]
    }
   ],
   "source": [
    "function polymult(p::poly, q::poly)\n",
    "\n",
    "  e = []\n",
    "  o =length(p.a)\n",
    "  u =length(q.a)\n",
    "  n = 1\n",
    "    ns = o+u-1\n",
    "    \n",
    "    e = fill(0,ns)\n",
    "    \n",
    "    ct=1\n",
    "\n",
    "  for i= 1:o\n",
    "    for j = 1:u\n",
    "        e[i+j-1] = e[i+j-1] + p.a[i] * q.a[j]\n",
    "    end\n",
    "  end\n",
    "return poly(e)\n",
    "\n",
    "end\n",
    "\n",
    "a = poly([1,2,3,4])\n",
    "b = poly([5,0,3])\n",
    "\n",
    "y = polymult(a,b)\n",
    "println(prpoly(y))\n"
   ]
  },
  {
   "cell_type": "markdown",
   "metadata": {},
   "source": [
    "### Polynomial Composition"
   ]
  },
  {
   "cell_type": "code",
   "execution_count": 7,
   "metadata": {
    "collapsed": false
   },
   "outputs": [
    {
     "name": "stdout",
     "output_type": "stream",
     "text": [
      "586 + 996 x^2 + 567 x^4 + 108 x^6\n"
     ]
    }
   ],
   "source": [
    "function polycomp(p::poly,q::poly)\n",
    "    o =length(p.a)\n",
    "    u =length(q.a)\n",
    "    e = poly([0])\n",
    "    i = o\n",
    "    while i>0 \n",
    "        r = poly([p.a[i]])\n",
    "        e = polymult(e,b)\n",
    "        e = polysum(e,r)\n",
    "        i= i-1\n",
    "    end\n",
    "    return e\n",
    "  \n",
    "end\n",
    "\n",
    "a = poly([1,2,3,4])\n",
    "b = poly([5,0,3])\n",
    "\n",
    "y = polycomp(a,b)\n",
    "println(prpoly(y))"
   ]
  },
  {
   "cell_type": "markdown",
   "metadata": {},
   "source": [
    "### Derivative of a Polynomial"
   ]
  },
  {
   "cell_type": "code",
   "execution_count": 8,
   "metadata": {
    "collapsed": false
   },
   "outputs": [
    {
     "name": "stdout",
     "output_type": "stream",
     "text": [
      "2 + 6 x^1 + 12 x^2\n"
     ]
    }
   ],
   "source": [
    "function polyder(p::poly)\n",
    "    o =length(p.a)\n",
    "    \n",
    "    if o == 0\n",
    "        e = poly([0])\n",
    "        return e\n",
    "    \n",
    "    else\n",
    "        e = fill(0,o-1)\n",
    "        \n",
    "        for i = 1:o-1\n",
    "            e[i]=(i)*p.a[i+1]\n",
    "        end\n",
    "    \n",
    "    end\n",
    "    return poly(e)\n",
    "end\n",
    "\n",
    "a = poly([1,2,3,4])\n",
    "\n",
    "y = polyder(a)\n",
    "println(prpoly(y))"
   ]
  }
 ],
 "metadata": {
  "kernelspec": {
   "display_name": "Julia 0.5.0",
   "language": "julia",
   "name": "julia-0.5"
  },
  "language_info": {
   "file_extension": ".jl",
   "mimetype": "application/julia",
   "name": "julia",
   "version": "0.5.0"
  }
 },
 "nbformat": 4,
 "nbformat_minor": 1
}
