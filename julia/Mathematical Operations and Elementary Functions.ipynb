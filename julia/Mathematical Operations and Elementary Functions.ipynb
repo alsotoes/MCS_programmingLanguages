{
 "cells": [
  {
   "cell_type": "markdown",
   "metadata": {},
   "source": [
    "# Mathematical Operations and Elementary Functions"
   ]
  },
  {
   "cell_type": "markdown",
   "metadata": {},
   "source": [
    "## Arithmetic Operations"
   ]
  },
  {
   "cell_type": "code",
   "execution_count": 20,
   "metadata": {
    "collapsed": false
   },
   "outputs": [
    {
     "name": "stdout",
     "output_type": "stream",
     "text": [
      "3+2 = 5\n",
      "3-2 = 1\n",
      "3*2 = 6\n",
      "3/2 = 1.5\n",
      "3  2 = 0.6666666666666666\n",
      "3^2 = 9\n"
     ]
    }
   ],
   "source": [
    "workspace()\n",
    "x = 3\n",
    "y = 2\n",
    "\n",
    "z= x + y\n",
    "r = x - y\n",
    "t = x * y\n",
    "u = x / y\n",
    "q = x\\y\n",
    "p = x ^ y\n",
    "println(\"$x+$y = $z\")\n",
    "println(\"$x-$y = $r\")\n",
    "println(\"$x*$y = $t\")\n",
    "println(\"$x/$y = $u\")\n",
    "println(\"$x \\ $y = $q\")\n",
    "println(\"$x^$y = $p\")"
   ]
  },
  {
   "cell_type": "markdown",
   "metadata": {
    "collapsed": true
   },
   "source": [
    "## Complex numbers"
   ]
  },
  {
   "cell_type": "code",
   "execution_count": 21,
   "metadata": {
    "collapsed": false
   },
   "outputs": [
    {
     "data": {
      "text/plain": [
       "4 + 7im"
      ]
     },
     "execution_count": 21,
     "metadata": {},
     "output_type": "execute_result"
    }
   ],
   "source": [
    "com = 1 + 2im \n",
    "com2 = 3 + 5im\n",
    "com3 = com + com2"
   ]
  },
  {
   "cell_type": "markdown",
   "metadata": {},
   "source": [
    "## Rational Numbers"
   ]
  },
  {
   "cell_type": "code",
   "execution_count": 22,
   "metadata": {
    "collapsed": false
   },
   "outputs": [
    {
     "data": {
      "text/plain": [
       "5//9"
      ]
     },
     "execution_count": 22,
     "metadata": {},
     "output_type": "execute_result"
    }
   ],
   "source": [
    "rat = 2 // 3\n",
    "rat2 = 5 // 6\n",
    "rat3 = rat * rat2"
   ]
  },
  {
   "cell_type": "code",
   "execution_count": null,
   "metadata": {
    "collapsed": true
   },
   "outputs": [],
   "source": []
  }
 ],
 "metadata": {
  "kernelspec": {
   "display_name": "Julia 0.5.0",
   "language": "julia",
   "name": "julia-0.5"
  },
  "language_info": {
   "file_extension": ".jl",
   "mimetype": "application/julia",
   "name": "julia",
   "version": "0.5.0"
  }
 },
 "nbformat": 4,
 "nbformat_minor": 1
}
